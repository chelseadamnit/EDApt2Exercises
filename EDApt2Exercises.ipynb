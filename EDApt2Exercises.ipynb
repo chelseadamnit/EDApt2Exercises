{
  "metadata": {
    "celltoolbar": "Raw Cell Format",
    "kernelspec": {
      "name": "python",
      "display_name": "Python (Pyodide)",
      "language": "python"
    },
    "language_info": {
      "codemirror_mode": {
        "name": "python",
        "version": 3
      },
      "file_extension": ".py",
      "mimetype": "text/x-python",
      "name": "python",
      "nbconvert_exporter": "python",
      "pygments_lexer": "ipython3",
      "version": "3.8"
    }
  },
  "nbformat_minor": 5,
  "nbformat": 4,
  "cells": [
    {
      "cell_type": "markdown",
      "source": "# How to calculate summary statistics?\n\nFollow along with this [article](https://pandas.pydata.org/pandas-docs/stable/getting_started/intro_tutorials/06_calculate_statistics.html). The data set from the article has been included in the repository already, no need to download separately. This notebook will also contain some supplemental information to help you better understand basic summary statistics.\n\nFirst thing we want to do is to import the pandas library.",
      "metadata": {
        "raw_mimetype": "text/markdown"
      },
      "id": "90ae45ab"
    },
    {
      "cell_type": "code",
      "source": "import pandas as pd\n",
      "metadata": {
        "trusted": true
      },
      "execution_count": 32,
      "outputs": [],
      "id": "9d3c3b53"
    },
    {
      "cell_type": "markdown",
      "source": "We are going to be working with the titanic dataset found [here.](https://github.com/pandas-dev/pandas/blob/master/doc/data/titanic.csv) It is in csv format and consists fo the following data columns:",
      "metadata": {},
      "id": "fe80ce4e"
    },
    {
      "cell_type": "markdown",
      "source": "\n- PassengerId: Id of every passenger.\n- Survived: Value of 0 for not survived and 1 for survived.\n- Pclass: There are 3 classes: Class 1, Class 2 and Class 3.\n- Name: Name of passenger.\n- Sex: Gender of passenger.\n- Age: Age of passenger.\n- SibSp: Number of siblings / spouses on the Titanic\n- Parch: Number of parents / children on the Titanic\n- Ticket: Ticket number of passenger.\n- Fare: Indicating the fare.\n- Cabin: The cabin of passenger.\n- Embarked: Port of Embarkation ( C = Cherbourg, Q = Queenstown, S = Southampton)\n\nLet's load the data into a data frame and see what the data looks like. Since your csv file is in a folder named data, the path syntex is: data/your_data_set_name.csv to read your data into a data frame.",
      "metadata": {},
      "id": "6266b04d"
    },
    {
      "cell_type": "code",
      "source": "#read titantic data set into a data frame\n\ntitanic = pd.read_csv(\"data/titanic.csv\")\n#although we listed the column names above, write the code to return the name of all of your columns in the dataset\n",
      "metadata": {
        "trusted": true
      },
      "execution_count": 34,
      "outputs": [],
      "id": "a7383c72"
    },
    {
      "cell_type": "code",
      "source": "# print the first 5 rows from the dataframe\ntitanic.head()",
      "metadata": {
        "scrolled": true,
        "trusted": true
      },
      "execution_count": 35,
      "outputs": [
        {
          "execution_count": 35,
          "output_type": "execute_result",
          "data": {
            "text/plain": "   PassengerId  Survived  Pclass  \\\n0            1         0       3   \n1            2         1       1   \n2            3         1       3   \n3            4         1       1   \n4            5         0       3   \n\n                                                Name     Sex   Age  SibSp  \\\n0                            Braund, Mr. Owen Harris    male  22.0      1   \n1  Cumings, Mrs. John Bradley (Florence Briggs Th...  female  38.0      1   \n2                             Heikkinen, Miss. Laina  female  26.0      0   \n3       Futrelle, Mrs. Jacques Heath (Lily May Peel)  female  35.0      1   \n4                           Allen, Mr. William Henry    male  35.0      0   \n\n   Parch            Ticket     Fare Cabin Embarked  \n0      0         A/5 21171   7.2500   NaN        S  \n1      0          PC 17599  71.2833   C85        C  \n2      0  STON/O2. 3101282   7.9250   NaN        S  \n3      0            113803  53.1000  C123        S  \n4      0            373450   8.0500   NaN        S  ",
            "text/html": "<div>\n<style scoped>\n    .dataframe tbody tr th:only-of-type {\n        vertical-align: middle;\n    }\n\n    .dataframe tbody tr th {\n        vertical-align: top;\n    }\n\n    .dataframe thead th {\n        text-align: right;\n    }\n</style>\n<table border=\"1\" class=\"dataframe\">\n  <thead>\n    <tr style=\"text-align: right;\">\n      <th></th>\n      <th>PassengerId</th>\n      <th>Survived</th>\n      <th>Pclass</th>\n      <th>Name</th>\n      <th>Sex</th>\n      <th>Age</th>\n      <th>SibSp</th>\n      <th>Parch</th>\n      <th>Ticket</th>\n      <th>Fare</th>\n      <th>Cabin</th>\n      <th>Embarked</th>\n    </tr>\n  </thead>\n  <tbody>\n    <tr>\n      <th>0</th>\n      <td>1</td>\n      <td>0</td>\n      <td>3</td>\n      <td>Braund, Mr. Owen Harris</td>\n      <td>male</td>\n      <td>22.0</td>\n      <td>1</td>\n      <td>0</td>\n      <td>A/5 21171</td>\n      <td>7.2500</td>\n      <td>NaN</td>\n      <td>S</td>\n    </tr>\n    <tr>\n      <th>1</th>\n      <td>2</td>\n      <td>1</td>\n      <td>1</td>\n      <td>Cumings, Mrs. John Bradley (Florence Briggs Th...</td>\n      <td>female</td>\n      <td>38.0</td>\n      <td>1</td>\n      <td>0</td>\n      <td>PC 17599</td>\n      <td>71.2833</td>\n      <td>C85</td>\n      <td>C</td>\n    </tr>\n    <tr>\n      <th>2</th>\n      <td>3</td>\n      <td>1</td>\n      <td>3</td>\n      <td>Heikkinen, Miss. Laina</td>\n      <td>female</td>\n      <td>26.0</td>\n      <td>0</td>\n      <td>0</td>\n      <td>STON/O2. 3101282</td>\n      <td>7.9250</td>\n      <td>NaN</td>\n      <td>S</td>\n    </tr>\n    <tr>\n      <th>3</th>\n      <td>4</td>\n      <td>1</td>\n      <td>1</td>\n      <td>Futrelle, Mrs. Jacques Heath (Lily May Peel)</td>\n      <td>female</td>\n      <td>35.0</td>\n      <td>1</td>\n      <td>0</td>\n      <td>113803</td>\n      <td>53.1000</td>\n      <td>C123</td>\n      <td>S</td>\n    </tr>\n    <tr>\n      <th>4</th>\n      <td>5</td>\n      <td>0</td>\n      <td>3</td>\n      <td>Allen, Mr. William Henry</td>\n      <td>male</td>\n      <td>35.0</td>\n      <td>0</td>\n      <td>0</td>\n      <td>373450</td>\n      <td>8.0500</td>\n      <td>NaN</td>\n      <td>S</td>\n    </tr>\n  </tbody>\n</table>\n</div>"
          },
          "metadata": {}
        }
      ],
      "id": "13e52049"
    },
    {
      "cell_type": "markdown",
      "source": "What are some of your observations from looking at the data so far? Questions you would like to explore?\n\nWhat does \"C\" and \"S\" stand for in the \"Embarked\" Column. , what does the \"SibSp\" and \"Parch\" column mean? Does the listted clas impact survival rate\n\nFor example: I noticed that Survived is an int instead of Yes or No, not sure if I'll need to address that while data cleaning. I'm curious if the amount you paid for your ticket(Fare) impacted your survival rate?\n<br><br><br><br><br>\n\n\n\n\n\n",
      "metadata": {},
      "id": "5456e387"
    },
    {
      "cell_type": "code",
      "source": "#.info() returns: \n\ntitanic.info()\n    \n#name of the column, Non-null Count meaning how many non-null values their are in that column and Dtype\n#int64 means int value, float64 means float value, object means string value.\n",
      "metadata": {
        "trusted": true
      },
      "execution_count": 40,
      "outputs": [
        {
          "name": "stdout",
          "text": "<class 'pandas.core.frame.DataFrame'>\nRangeIndex: 891 entries, 0 to 890\nData columns (total 12 columns):\n #   Column       Non-Null Count  Dtype  \n---  ------       --------------  -----  \n 0   PassengerId  891 non-null    int64  \n 1   Survived     891 non-null    int64  \n 2   Pclass       891 non-null    int64  \n 3   Name         891 non-null    object \n 4   Sex          891 non-null    object \n 5   Age          714 non-null    float64\n 6   SibSp        891 non-null    int64  \n 7   Parch        891 non-null    int64  \n 8   Ticket       891 non-null    object \n 9   Fare         891 non-null    float64\n 10  Cabin        204 non-null    object \n 11  Embarked     889 non-null    object \ndtypes: float64(2), int64(5), object(5)\nmemory usage: 66.2+ KB\n",
          "output_type": "stream"
        }
      ],
      "id": "0dc4c04a"
    },
    {
      "cell_type": "markdown",
      "source": "By default statistical anaysis is run on numerical values.  \n\nLooking at the data above what do you notice about Age? Cabin? Hint: It would appear we are missing some data. \nWe are missing values for Age and Cabin, since hte Non-Null numbers for those columns do not match the row amount in the data.\n\nHow might these observations influence the questions asked? Missing data can skew the results, so questions should be geared towards using the data that is fully available, for the most accurate results. \n\nAny other observations?\nthere are 2 passenger data rows that were not marked on the embarked column- what can that mean?\n<br><br><br>",
      "metadata": {},
      "id": "898bf46c"
    },
    {
      "cell_type": "markdown",
      "source": "## Aggregating statistics",
      "metadata": {},
      "id": "4c7c0618"
    },
    {
      "cell_type": "markdown",
      "source": "### Calculating Mean, Median, Mode",
      "metadata": {},
      "id": "6d7429ab"
    },
    {
      "cell_type": "markdown",
      "source": "#### Mean: is the sum of the values divided by the number of values.",
      "metadata": {},
      "id": "531231ed"
    },
    {
      "cell_type": "code",
      "source": "#What is the mean age of the Titanic passengers?\ntitanic[\"Age\"].mean()\n\n## Age Mean = 29.69911764705882\n",
      "metadata": {
        "trusted": true
      },
      "execution_count": 41,
      "outputs": [
        {
          "execution_count": 41,
          "output_type": "execute_result",
          "data": {
            "text/plain": "29.69911764705882"
          },
          "metadata": {}
        }
      ],
      "id": "6c643af1"
    },
    {
      "cell_type": "markdown",
      "source": "We can also get the mean for all columns. ",
      "metadata": {},
      "id": "77fdd7e3"
    },
    {
      "cell_type": "code",
      "source": "#mean for all columns\ntitanic.mean()\n",
      "metadata": {
        "trusted": true
      },
      "execution_count": 42,
      "outputs": [
        {
          "name": "stderr",
          "text": "<ipython-input-42-b258a1f835b5>:2: FutureWarning: The default value of numeric_only in DataFrame.mean is deprecated. In a future version, it will default to False. In addition, specifying 'numeric_only=None' is deprecated. Select only valid columns or specify the value of numeric_only to silence this warning.\n  titanic.mean()\n",
          "output_type": "stream"
        },
        {
          "execution_count": 42,
          "output_type": "execute_result",
          "data": {
            "text/plain": "PassengerId    446.000000\nSurvived         0.383838\nPclass           2.308642\nAge             29.699118\nSibSp            0.523008\nParch            0.381594\nFare            32.204208\ndtype: float64"
          },
          "metadata": {}
        }
      ],
      "id": "8c257e27"
    },
    {
      "cell_type": "markdown",
      "source": "#### Median: Is the middle value when all the numbers are put in order, dividing the sample into two halves.  \n\nExample: (23, 46, 55, 78, 99)<br> \nThe Median of the above example is 55. ",
      "metadata": {},
      "id": "650ab22b"
    },
    {
      "cell_type": "code",
      "source": "# What is the median age and ticket fare price of the Titanic passengers?\ntitanic[[\"Age\", \"Fare\"]].median()\n# Age     28.0000\n# Fare    14.4542",
      "metadata": {
        "trusted": true
      },
      "execution_count": 46,
      "outputs": [
        {
          "execution_count": 46,
          "output_type": "execute_result",
          "data": {
            "text/plain": "Age     28.0000\nFare    14.4542\ndtype: float64"
          },
          "metadata": {}
        }
      ],
      "id": "75c70181"
    },
    {
      "cell_type": "markdown",
      "source": "#### Mode: The most frequent value(s) in a sample",
      "metadata": {},
      "id": "12993336"
    },
    {
      "cell_type": "code",
      "source": "# What is the mode age and fare for the titanic dateset?\ntitanic[[\"Age\", \"Fare\"]].mode()\n#Age: 24.0  Fare:8.05",
      "metadata": {
        "trusted": true
      },
      "execution_count": 47,
      "outputs": [
        {
          "execution_count": 47,
          "output_type": "execute_result",
          "data": {
            "text/plain": "    Age  Fare\n0  24.0  8.05",
            "text/html": "<div>\n<style scoped>\n    .dataframe tbody tr th:only-of-type {\n        vertical-align: middle;\n    }\n\n    .dataframe tbody tr th {\n        vertical-align: top;\n    }\n\n    .dataframe thead th {\n        text-align: right;\n    }\n</style>\n<table border=\"1\" class=\"dataframe\">\n  <thead>\n    <tr style=\"text-align: right;\">\n      <th></th>\n      <th>Age</th>\n      <th>Fare</th>\n    </tr>\n  </thead>\n  <tbody>\n    <tr>\n      <th>0</th>\n      <td>24.0</td>\n      <td>8.05</td>\n    </tr>\n  </tbody>\n</table>\n</div>"
          },
          "metadata": {}
        }
      ],
      "id": "d21de9a8"
    },
    {
      "cell_type": "markdown",
      "source": "Note the difference between Mean, Medium and Mode.  Why is this important? Can you think of times you would what to use one over the others?<br><br><br><br><br>\nMean= Average\nMedian = the middle number, after the numbers are consecutively ordered\nMode= the number that most frequents the sequences\n\nEach of these can be useful when analyzing data sets, depending on the situation. If I'm trying to find the average of age of a consumer for a certain product, I would use Mean so that I could assertain the demographic that is most likely to buy that product and focus on trends within that target audience. \n\nIf I were trying to find the most accurate salary for a multi-level marketing rank- I would use the Median values, as those can be heavily skewed by absurdly high outliers, or a multitude of people that make 0. A median would provide a more likely outcome than the few percentages of people that make massive amounts more than the rest.\n\nI would use Mode if I were to try to find the most used value, wether it were most common price, size, or other value of something in the data set.\n",
      "metadata": {},
      "id": "8894202a"
    },
    {
      "cell_type": "markdown",
      "source": "We can use the .describe() funciton to display some basic statistics for all numeric columns:",
      "metadata": {},
      "id": "1089b8d7"
    },
    {
      "cell_type": "code",
      "source": "# Summary statistics for all columns in a dataset\n\ntitanic.describe()\n",
      "metadata": {
        "trusted": true
      },
      "execution_count": 79,
      "outputs": [
        {
          "execution_count": 79,
          "output_type": "execute_result",
          "data": {
            "text/plain": "       PassengerId    Survived      Pclass         Age       SibSp  \\\ncount   891.000000  891.000000  891.000000  714.000000  891.000000   \nmean    446.000000    0.383838    2.308642   29.699118    0.523008   \nstd     257.353842    0.486592    0.836071   14.526497    1.102743   \nmin       1.000000    0.000000    1.000000    0.420000    0.000000   \n25%     223.500000    0.000000    2.000000   20.125000    0.000000   \n50%     446.000000    0.000000    3.000000   28.000000    0.000000   \n75%     668.500000    1.000000    3.000000   38.000000    1.000000   \nmax     891.000000    1.000000    3.000000   80.000000    8.000000   \n\n            Parch        Fare  \ncount  891.000000  891.000000  \nmean     0.381594   32.204208  \nstd      0.806057   49.693429  \nmin      0.000000    0.000000  \n25%      0.000000    7.910400  \n50%      0.000000   14.454200  \n75%      0.000000   31.000000  \nmax      6.000000  512.329200  ",
            "text/html": "<div>\n<style scoped>\n    .dataframe tbody tr th:only-of-type {\n        vertical-align: middle;\n    }\n\n    .dataframe tbody tr th {\n        vertical-align: top;\n    }\n\n    .dataframe thead th {\n        text-align: right;\n    }\n</style>\n<table border=\"1\" class=\"dataframe\">\n  <thead>\n    <tr style=\"text-align: right;\">\n      <th></th>\n      <th>PassengerId</th>\n      <th>Survived</th>\n      <th>Pclass</th>\n      <th>Age</th>\n      <th>SibSp</th>\n      <th>Parch</th>\n      <th>Fare</th>\n    </tr>\n  </thead>\n  <tbody>\n    <tr>\n      <th>count</th>\n      <td>891.000000</td>\n      <td>891.000000</td>\n      <td>891.000000</td>\n      <td>714.000000</td>\n      <td>891.000000</td>\n      <td>891.000000</td>\n      <td>891.000000</td>\n    </tr>\n    <tr>\n      <th>mean</th>\n      <td>446.000000</td>\n      <td>0.383838</td>\n      <td>2.308642</td>\n      <td>29.699118</td>\n      <td>0.523008</td>\n      <td>0.381594</td>\n      <td>32.204208</td>\n    </tr>\n    <tr>\n      <th>std</th>\n      <td>257.353842</td>\n      <td>0.486592</td>\n      <td>0.836071</td>\n      <td>14.526497</td>\n      <td>1.102743</td>\n      <td>0.806057</td>\n      <td>49.693429</td>\n    </tr>\n    <tr>\n      <th>min</th>\n      <td>1.000000</td>\n      <td>0.000000</td>\n      <td>1.000000</td>\n      <td>0.420000</td>\n      <td>0.000000</td>\n      <td>0.000000</td>\n      <td>0.000000</td>\n    </tr>\n    <tr>\n      <th>25%</th>\n      <td>223.500000</td>\n      <td>0.000000</td>\n      <td>2.000000</td>\n      <td>20.125000</td>\n      <td>0.000000</td>\n      <td>0.000000</td>\n      <td>7.910400</td>\n    </tr>\n    <tr>\n      <th>50%</th>\n      <td>446.000000</td>\n      <td>0.000000</td>\n      <td>3.000000</td>\n      <td>28.000000</td>\n      <td>0.000000</td>\n      <td>0.000000</td>\n      <td>14.454200</td>\n    </tr>\n    <tr>\n      <th>75%</th>\n      <td>668.500000</td>\n      <td>1.000000</td>\n      <td>3.000000</td>\n      <td>38.000000</td>\n      <td>1.000000</td>\n      <td>0.000000</td>\n      <td>31.000000</td>\n    </tr>\n    <tr>\n      <th>max</th>\n      <td>891.000000</td>\n      <td>1.000000</td>\n      <td>3.000000</td>\n      <td>80.000000</td>\n      <td>8.000000</td>\n      <td>6.000000</td>\n      <td>512.329200</td>\n    </tr>\n  </tbody>\n</table>\n</div>"
          },
          "metadata": {}
        }
      ],
      "id": "cf48f48d"
    },
    {
      "cell_type": "code",
      "source": "# Summary statistics for just the Age and Fare columns\ntitanic[[\"Age\", \"Fare\"]].describe()",
      "metadata": {
        "trusted": true
      },
      "execution_count": 80,
      "outputs": [
        {
          "execution_count": 80,
          "output_type": "execute_result",
          "data": {
            "text/plain": "              Age        Fare\ncount  714.000000  891.000000\nmean    29.699118   32.204208\nstd     14.526497   49.693429\nmin      0.420000    0.000000\n25%     20.125000    7.910400\n50%     28.000000   14.454200\n75%     38.000000   31.000000\nmax     80.000000  512.329200",
            "text/html": "<div>\n<style scoped>\n    .dataframe tbody tr th:only-of-type {\n        vertical-align: middle;\n    }\n\n    .dataframe tbody tr th {\n        vertical-align: top;\n    }\n\n    .dataframe thead th {\n        text-align: right;\n    }\n</style>\n<table border=\"1\" class=\"dataframe\">\n  <thead>\n    <tr style=\"text-align: right;\">\n      <th></th>\n      <th>Age</th>\n      <th>Fare</th>\n    </tr>\n  </thead>\n  <tbody>\n    <tr>\n      <th>count</th>\n      <td>714.000000</td>\n      <td>891.000000</td>\n    </tr>\n    <tr>\n      <th>mean</th>\n      <td>29.699118</td>\n      <td>32.204208</td>\n    </tr>\n    <tr>\n      <th>std</th>\n      <td>14.526497</td>\n      <td>49.693429</td>\n    </tr>\n    <tr>\n      <th>min</th>\n      <td>0.420000</td>\n      <td>0.000000</td>\n    </tr>\n    <tr>\n      <th>25%</th>\n      <td>20.125000</td>\n      <td>7.910400</td>\n    </tr>\n    <tr>\n      <th>50%</th>\n      <td>28.000000</td>\n      <td>14.454200</td>\n    </tr>\n    <tr>\n      <th>75%</th>\n      <td>38.000000</td>\n      <td>31.000000</td>\n    </tr>\n    <tr>\n      <th>max</th>\n      <td>80.000000</td>\n      <td>512.329200</td>\n    </tr>\n  </tbody>\n</table>\n</div>"
          },
          "metadata": {}
        }
      ],
      "id": "807896f0"
    },
    {
      "cell_type": "markdown",
      "source": "Notice that medium and mode are not included in .describe()\n\nInstead of the predefined statistics, specific combinations of aggregating statistics for given columns can be defined using the [DataFrame.agg() method:](https://pandas.pydata.org/pandas-docs/stable/reference/api/pandas.DataFrame.agg.html#pandas.DataFrame.agg)",
      "metadata": {},
      "id": "87bd507a"
    },
    {
      "cell_type": "code",
      "source": "#use .agg\n\ntitanic.agg(\n    {\n        \"Age\": [\"min\", \"max\", \"median\", \"skew\"],\n        \"Fare\": [\"min\", \"max\", \"median\", \"mean\"],\n    }\n)\n\n",
      "metadata": {
        "trusted": true
      },
      "execution_count": 81,
      "outputs": [
        {
          "execution_count": 81,
          "output_type": "execute_result",
          "data": {
            "text/plain": "              Age        Fare\nmin      0.420000    0.000000\nmax     80.000000  512.329200\nmedian  28.000000   14.454200\nskew     0.389108         NaN\nmean          NaN   32.204208",
            "text/html": "<div>\n<style scoped>\n    .dataframe tbody tr th:only-of-type {\n        vertical-align: middle;\n    }\n\n    .dataframe tbody tr th {\n        vertical-align: top;\n    }\n\n    .dataframe thead th {\n        text-align: right;\n    }\n</style>\n<table border=\"1\" class=\"dataframe\">\n  <thead>\n    <tr style=\"text-align: right;\">\n      <th></th>\n      <th>Age</th>\n      <th>Fare</th>\n    </tr>\n  </thead>\n  <tbody>\n    <tr>\n      <th>min</th>\n      <td>0.420000</td>\n      <td>0.000000</td>\n    </tr>\n    <tr>\n      <th>max</th>\n      <td>80.000000</td>\n      <td>512.329200</td>\n    </tr>\n    <tr>\n      <th>median</th>\n      <td>28.000000</td>\n      <td>14.454200</td>\n    </tr>\n    <tr>\n      <th>skew</th>\n      <td>0.389108</td>\n      <td>NaN</td>\n    </tr>\n    <tr>\n      <th>mean</th>\n      <td>NaN</td>\n      <td>32.204208</td>\n    </tr>\n  </tbody>\n</table>\n</div>"
          },
          "metadata": {}
        }
      ],
      "id": "bc9fd691"
    },
    {
      "cell_type": "markdown",
      "source": "## Aggregating statistics grouped by category",
      "metadata": {},
      "id": "1819249b"
    },
    {
      "cell_type": "markdown",
      "source": "Calculating a given statistic (e.g. mean age) for each category in a column (e.g. male/female in the Sex column) is a common pattern. The groupby method is used to support this type of operations. ",
      "metadata": {},
      "id": "28129c8e"
    },
    {
      "cell_type": "code",
      "source": "# What is the average age for male versus female Titanic passengers?\ntitanic[[\"Sex\", \"Age\"]].groupby(\"Sex\").mean()\n",
      "metadata": {
        "scrolled": true,
        "trusted": true
      },
      "execution_count": 82,
      "outputs": [
        {
          "execution_count": 82,
          "output_type": "execute_result",
          "data": {
            "text/plain": "              Age\nSex              \nfemale  27.915709\nmale    30.726645",
            "text/html": "<div>\n<style scoped>\n    .dataframe tbody tr th:only-of-type {\n        vertical-align: middle;\n    }\n\n    .dataframe tbody tr th {\n        vertical-align: top;\n    }\n\n    .dataframe thead th {\n        text-align: right;\n    }\n</style>\n<table border=\"1\" class=\"dataframe\">\n  <thead>\n    <tr style=\"text-align: right;\">\n      <th></th>\n      <th>Age</th>\n    </tr>\n    <tr>\n      <th>Sex</th>\n      <th></th>\n    </tr>\n  </thead>\n  <tbody>\n    <tr>\n      <th>female</th>\n      <td>27.915709</td>\n    </tr>\n    <tr>\n      <th>male</th>\n      <td>30.726645</td>\n    </tr>\n  </tbody>\n</table>\n</div>"
          },
          "metadata": {}
        }
      ],
      "id": "ae223f7c"
    },
    {
      "cell_type": "code",
      "source": "# What is the survival of men verses female Titanic Passengers? \ntitanic[[\"Sex\", \"Age\"]].groupby(\"Sex\").mean(numeric_only=True)\n",
      "metadata": {
        "trusted": true
      },
      "execution_count": 83,
      "outputs": [
        {
          "execution_count": 83,
          "output_type": "execute_result",
          "data": {
            "text/plain": "              Age\nSex              \nfemale  27.915709\nmale    30.726645",
            "text/html": "<div>\n<style scoped>\n    .dataframe tbody tr th:only-of-type {\n        vertical-align: middle;\n    }\n\n    .dataframe tbody tr th {\n        vertical-align: top;\n    }\n\n    .dataframe thead th {\n        text-align: right;\n    }\n</style>\n<table border=\"1\" class=\"dataframe\">\n  <thead>\n    <tr style=\"text-align: right;\">\n      <th></th>\n      <th>Age</th>\n    </tr>\n    <tr>\n      <th>Sex</th>\n      <th></th>\n    </tr>\n  </thead>\n  <tbody>\n    <tr>\n      <th>female</th>\n      <td>27.915709</td>\n    </tr>\n    <tr>\n      <th>male</th>\n      <td>30.726645</td>\n    </tr>\n  </tbody>\n</table>\n</div>"
          },
          "metadata": {}
        }
      ],
      "id": "c734ba4e"
    },
    {
      "cell_type": "code",
      "source": "# Try some other combinations, what do you think about this method?\n\ntitanic.groupby(\"Fare\").mean(numeric_only=True)\n\n\n\n\n\n\n",
      "metadata": {
        "trusted": true
      },
      "execution_count": 84,
      "outputs": [
        {
          "execution_count": 84,
          "output_type": "execute_result",
          "data": {
            "text/plain": "          PassengerId  Survived    Pclass        Age  SibSp     Parch\nFare                                                                 \n0.0000         516.40  0.066667  1.933333  35.142857   0.00  0.000000\n4.0125         379.00  0.000000  3.000000  20.000000   0.00  0.000000\n5.0000         873.00  0.000000  1.000000  33.000000   0.00  0.000000\n6.2375         327.00  0.000000  3.000000  61.000000   0.00  0.000000\n6.4375         844.00  0.000000  3.000000  34.500000   0.00  0.000000\n...               ...       ...       ...        ...    ...       ...\n227.5250       589.25  0.750000  1.000000  32.666667   0.25  0.000000\n247.5208       209.50  0.500000  1.000000  37.000000   0.00  1.000000\n262.3750       527.50  1.000000  1.000000  19.500000   2.00  2.000000\n263.0000       224.50  0.500000  1.000000  32.500000   2.50  2.500000\n512.3292       559.00  1.000000  1.000000  35.333333   0.00  0.333333\n\n[248 rows x 6 columns]",
            "text/html": "<div>\n<style scoped>\n    .dataframe tbody tr th:only-of-type {\n        vertical-align: middle;\n    }\n\n    .dataframe tbody tr th {\n        vertical-align: top;\n    }\n\n    .dataframe thead th {\n        text-align: right;\n    }\n</style>\n<table border=\"1\" class=\"dataframe\">\n  <thead>\n    <tr style=\"text-align: right;\">\n      <th></th>\n      <th>PassengerId</th>\n      <th>Survived</th>\n      <th>Pclass</th>\n      <th>Age</th>\n      <th>SibSp</th>\n      <th>Parch</th>\n    </tr>\n    <tr>\n      <th>Fare</th>\n      <th></th>\n      <th></th>\n      <th></th>\n      <th></th>\n      <th></th>\n      <th></th>\n    </tr>\n  </thead>\n  <tbody>\n    <tr>\n      <th>0.0000</th>\n      <td>516.40</td>\n      <td>0.066667</td>\n      <td>1.933333</td>\n      <td>35.142857</td>\n      <td>0.00</td>\n      <td>0.000000</td>\n    </tr>\n    <tr>\n      <th>4.0125</th>\n      <td>379.00</td>\n      <td>0.000000</td>\n      <td>3.000000</td>\n      <td>20.000000</td>\n      <td>0.00</td>\n      <td>0.000000</td>\n    </tr>\n    <tr>\n      <th>5.0000</th>\n      <td>873.00</td>\n      <td>0.000000</td>\n      <td>1.000000</td>\n      <td>33.000000</td>\n      <td>0.00</td>\n      <td>0.000000</td>\n    </tr>\n    <tr>\n      <th>6.2375</th>\n      <td>327.00</td>\n      <td>0.000000</td>\n      <td>3.000000</td>\n      <td>61.000000</td>\n      <td>0.00</td>\n      <td>0.000000</td>\n    </tr>\n    <tr>\n      <th>6.4375</th>\n      <td>844.00</td>\n      <td>0.000000</td>\n      <td>3.000000</td>\n      <td>34.500000</td>\n      <td>0.00</td>\n      <td>0.000000</td>\n    </tr>\n    <tr>\n      <th>...</th>\n      <td>...</td>\n      <td>...</td>\n      <td>...</td>\n      <td>...</td>\n      <td>...</td>\n      <td>...</td>\n    </tr>\n    <tr>\n      <th>227.5250</th>\n      <td>589.25</td>\n      <td>0.750000</td>\n      <td>1.000000</td>\n      <td>32.666667</td>\n      <td>0.25</td>\n      <td>0.000000</td>\n    </tr>\n    <tr>\n      <th>247.5208</th>\n      <td>209.50</td>\n      <td>0.500000</td>\n      <td>1.000000</td>\n      <td>37.000000</td>\n      <td>0.00</td>\n      <td>1.000000</td>\n    </tr>\n    <tr>\n      <th>262.3750</th>\n      <td>527.50</td>\n      <td>1.000000</td>\n      <td>1.000000</td>\n      <td>19.500000</td>\n      <td>2.00</td>\n      <td>2.000000</td>\n    </tr>\n    <tr>\n      <th>263.0000</th>\n      <td>224.50</td>\n      <td>0.500000</td>\n      <td>1.000000</td>\n      <td>32.500000</td>\n      <td>2.50</td>\n      <td>2.500000</td>\n    </tr>\n    <tr>\n      <th>512.3292</th>\n      <td>559.00</td>\n      <td>1.000000</td>\n      <td>1.000000</td>\n      <td>35.333333</td>\n      <td>0.00</td>\n      <td>0.333333</td>\n    </tr>\n  </tbody>\n</table>\n<p>248 rows × 6 columns</p>\n</div>"
          },
          "metadata": {}
        }
      ],
      "id": "7ea45273"
    },
    {
      "cell_type": "markdown",
      "source": "In the previous examples, we explicitly selected the 2 columns first. If not, the mean method is applied to each column containing numerical columns:",
      "metadata": {},
      "id": "066ba694"
    },
    {
      "cell_type": "code",
      "source": "#use .groupby Sex and .mean\ntitanic.groupby(\"Sex\").mean(numeric_only=True)\n\n",
      "metadata": {
        "trusted": true
      },
      "execution_count": 85,
      "outputs": [
        {
          "execution_count": 85,
          "output_type": "execute_result",
          "data": {
            "text/plain": "        PassengerId  Survived    Pclass        Age     SibSp     Parch  \\\nSex                                                                      \nfemale   431.028662  0.742038  2.159236  27.915709  0.694268  0.649682   \nmale     454.147314  0.188908  2.389948  30.726645  0.429809  0.235702   \n\n             Fare  \nSex                \nfemale  44.479818  \nmale    25.523893  ",
            "text/html": "<div>\n<style scoped>\n    .dataframe tbody tr th:only-of-type {\n        vertical-align: middle;\n    }\n\n    .dataframe tbody tr th {\n        vertical-align: top;\n    }\n\n    .dataframe thead th {\n        text-align: right;\n    }\n</style>\n<table border=\"1\" class=\"dataframe\">\n  <thead>\n    <tr style=\"text-align: right;\">\n      <th></th>\n      <th>PassengerId</th>\n      <th>Survived</th>\n      <th>Pclass</th>\n      <th>Age</th>\n      <th>SibSp</th>\n      <th>Parch</th>\n      <th>Fare</th>\n    </tr>\n    <tr>\n      <th>Sex</th>\n      <th></th>\n      <th></th>\n      <th></th>\n      <th></th>\n      <th></th>\n      <th></th>\n      <th></th>\n    </tr>\n  </thead>\n  <tbody>\n    <tr>\n      <th>female</th>\n      <td>431.028662</td>\n      <td>0.742038</td>\n      <td>2.159236</td>\n      <td>27.915709</td>\n      <td>0.694268</td>\n      <td>0.649682</td>\n      <td>44.479818</td>\n    </tr>\n    <tr>\n      <th>male</th>\n      <td>454.147314</td>\n      <td>0.188908</td>\n      <td>2.389948</td>\n      <td>30.726645</td>\n      <td>0.429809</td>\n      <td>0.235702</td>\n      <td>25.523893</td>\n    </tr>\n  </tbody>\n</table>\n</div>"
          },
          "metadata": {}
        }
      ],
      "id": "8ac2debe"
    },
    {
      "cell_type": "markdown",
      "source": "It does not make much sense to get the average value of the Pclass. if we are only interested in the average age for each gender, the selection of columns (rectangular brackets [] as usual) is supported on the grouped data as well:",
      "metadata": {},
      "id": "00bf525e"
    },
    {
      "cell_type": "code",
      "source": "#use .goupby Sex just for Age \ntitanic.groupby(\"Sex\")[\"Age\"].mean()",
      "metadata": {
        "trusted": true
      },
      "execution_count": 86,
      "outputs": [
        {
          "execution_count": 86,
          "output_type": "execute_result",
          "data": {
            "text/plain": "Sex\nfemale    27.915709\nmale      30.726645\nName: Age, dtype: float64"
          },
          "metadata": {}
        }
      ],
      "id": "4f6729a2"
    },
    {
      "cell_type": "code",
      "source": "# What is the mean ticket fare price for each of the sex and cabin class combinations?\ntitanic.groupby([\"Sex\",\"Cabin\"])[\"Fare\"].mean()",
      "metadata": {
        "trusted": true
      },
      "execution_count": 87,
      "outputs": [
        {
          "execution_count": 87,
          "output_type": "execute_result",
          "data": {
            "text/plain": "Sex     Cabin\nfemale  A16      39.6000\n        B18      57.9792\n        B20      57.0000\n        B22      71.0000\n        B28      80.0000\n                  ...   \nmale    F G73     7.6500\n        F2       26.0000\n        F38       7.7500\n        F4       39.0000\n        T        35.5000\nName: Fare, Length: 171, dtype: float64"
          },
          "metadata": {}
        }
      ],
      "id": "cdcdc983"
    },
    {
      "cell_type": "code",
      "source": "# Try some other combinations, what do you think about this method?\n\ntitanic.groupby([\"Sex\", \"Fare\"])[\"Survived\"].mean()\n\n\n",
      "metadata": {
        "trusted": true
      },
      "execution_count": 90,
      "outputs": [
        {
          "execution_count": 90,
          "output_type": "execute_result",
          "data": {
            "text/plain": "Sex     Fare    \nfemale  6.7500      0.0\n        7.2250      1.0\n        7.2292      1.0\n        7.2500      1.0\n        7.4958      1.0\n                   ... \nmale    221.7792    0.0\n        227.5250    0.0\n        247.5208    0.0\n        263.0000    0.0\n        512.3292    1.0\nName: Survived, Length: 349, dtype: float64"
          },
          "metadata": {}
        }
      ],
      "id": "2d734ef2"
    },
    {
      "cell_type": "markdown",
      "source": "## Count number of records by category\n\nThe value_counts() method counts the number of records for each category in a column.",
      "metadata": {},
      "id": "69e40dfa"
    },
    {
      "cell_type": "code",
      "source": "# What is the number of passengers in each of the cabin classes?\ntitanic[\"Pclass\"].value_counts()\n",
      "metadata": {
        "trusted": true
      },
      "execution_count": 91,
      "outputs": [
        {
          "execution_count": 91,
          "output_type": "execute_result",
          "data": {
            "text/plain": "3    491\n1    216\n2    184\nName: Pclass, dtype: int64"
          },
          "metadata": {}
        }
      ],
      "id": "c167e6b8"
    },
    {
      "cell_type": "markdown",
      "source": "The function is a shortcut, as it is actually a groupby operation in combination with counting of the number of records within each group:",
      "metadata": {},
      "id": "56219768"
    },
    {
      "cell_type": "code",
      "source": "#Count the number of passengers by cabin classes using groupby\ntitanic.groupby(\"Pclass\")[\"Pclass\"].count()\n",
      "metadata": {
        "trusted": true
      },
      "execution_count": 92,
      "outputs": [
        {
          "execution_count": 92,
          "output_type": "execute_result",
          "data": {
            "text/plain": "Pclass\n1    216\n2    184\n3    491\nName: Pclass, dtype: int64"
          },
          "metadata": {}
        }
      ],
      "id": "950f5c70"
    },
    {
      "cell_type": "code",
      "source": "# Using the value_counts method what else could you count?\ntitanic.groupby([\"Pclass\", \"Survived\"])[\"Survived\"].count()\n\n",
      "metadata": {
        "trusted": true
      },
      "execution_count": 104,
      "outputs": [
        {
          "execution_count": 104,
          "output_type": "execute_result",
          "data": {
            "text/plain": "Pclass  Survived\n1       0            80\n        1           136\n2       0            97\n        1            87\n3       0           372\n        1           119\nName: Survived, dtype: int64"
          },
          "metadata": {}
        }
      ],
      "id": "e822526a"
    },
    {
      "cell_type": "code",
      "source": "# Both size and count can be used in combination with groupby. \n# Whereas size includes NaN values and just provides the number of rows (size of the table), count excludes the missing values. \n# In the value_counts method, use the dropna argument to include or exclude the NaN values.\n\n# REMEMBER\n# Aggregation statistics can be calculated on entire columns or rows.\n\n# groupby provides the power of the split-apply-combine pattern.\n\n# value_counts is a convenient shortcut to count the number of entries in each category of a variable.",
      "metadata": {
        "trusted": true
      },
      "execution_count": 106,
      "outputs": [],
      "id": "f660683b-c911-4dd5-b36d-9f7f882d3c23"
    },
    {
      "cell_type": "code",
      "source": "",
      "metadata": {},
      "execution_count": null,
      "outputs": [],
      "id": "93b53dad-a8a8-4cfc-8e20-116a2b60b9eb"
    }
  ]
}